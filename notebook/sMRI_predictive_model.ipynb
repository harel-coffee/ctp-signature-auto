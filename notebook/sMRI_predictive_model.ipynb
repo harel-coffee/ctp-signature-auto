{
 "cells": [
  {
   "cell_type": "markdown",
   "metadata": {},
   "source": [
    "# Load libraries"
   ]
  },
  {
   "cell_type": "code",
   "execution_count": 1,
   "metadata": {},
   "outputs": [],
   "source": [
    "import sys\n",
    "import glob\n",
    "import warnings\n",
    "warnings.filterwarnings(\"ignore\")\n",
    "from functools import reduce\n",
    "import pandas as pd\n",
    "import numpy as np\n",
    "from sklearn.model_selection import train_test_split, learning_curve\n",
    "import seaborn as sns\n",
    "import matplotlib.pyplot as plt\n",
    "from sklearn.linear_model import Lasso, Ridge, ElasticNet, SGDRegressor, LinearRegression\n",
    "from sklearn.pipeline import Pipeline\n",
    "from sklearn.model_selection import GridSearchCV, LeaveOneOut, train_test_split, cross_val_score, \\\n",
    "                                    cross_validate,cross_val_predict, StratifiedKFold, KFold, GroupKFold, LeavePGroupsOut\n",
    "from scipy.stats import pearsonr\n",
    "from sklearn.feature_selection import SelectKBest, f_regression, VarianceThreshold\n",
    "from sklearn import preprocessing\n",
    "from sklearn.metrics import mean_squared_error, mean_absolute_error, median_absolute_error, r2_score, explained_variance_score\n",
    "import scipy.stats as stats\n",
    "from statsmodels.graphics.gofplots import qqplot\n",
    "from neurocombat_sklearn import CombatModel\n",
    "from scipy.stats import normaltest\n",
    "from mlxtend.evaluate import permutation_test"
   ]
  },
  {
   "cell_type": "markdown",
   "metadata": {},
   "source": [
    "# Read freesurfer stats"
   ]
  },
  {
   "cell_type": "code",
   "execution_count": 2,
   "metadata": {},
   "outputs": [],
   "source": [
    "def readFiles(feature_path, behavior_path,target_str, covar_list, subj_excl, study_ext):\n",
    "    \n",
    "    feature = pd.read_csv(feature_path, sep = '\\t',index_col=0)\n",
    "    for i in feature.index:\n",
    "        feature.rename(index={i:i + study_ext},inplace=True)\n",
    "\n",
    "    subj_excl_v1 = []\n",
    "    \n",
    "    if study_ext in {'_s1'} or study_ext in {'_s2'}:\n",
    "        for i in subj_excl:\n",
    "            subj_excl_v1.append('sub-' + i.zfill(3) + '_T1w' + study_ext)\n",
    "    else:\n",
    "        for i in subj_excl:\n",
    "            subj_excl_v1.append('HC' + i.zfill(2) + study_ext)\n",
    "    \n",
    "    if not subj_excl:\n",
    "        feature_v1 = feature\n",
    "    else:\n",
    "        feature_v1 = feature.drop(subj_excl_v1, axis=0)\n",
    "    \n",
    "    behavior = pd.read_csv(behavior_path)\n",
    "    behavior.set_index('ID_EXT',inplace=True)\n",
    "    \n",
    "    target = behavior[target_str]\n",
    "    df_merge = pd.merge(feature_v1, target, left_index=True, right_index=True, how= 'left') \n",
    "    \n",
    "    age_cov = behavior[covar_list[0]]\n",
    "    df_merge_age = pd.merge(df_merge, age_cov, left_index=True, right_index=True, how= 'left')   \n",
    "    \n",
    "    sex_cov = behavior[covar_list[1]]\n",
    "    df_merge_age_sex = pd.merge(df_merge_age, sex_cov, left_index=True, right_index=True, how= 'left')   \n",
    "    df_merge_age_sex.dropna(inplace=True)\n",
    "    \n",
    "    return df_merge_age_sex"
   ]
  },
  {
   "cell_type": "markdown",
   "metadata": {},
   "source": [
    "# Models"
   ]
  },
  {
   "cell_type": "code",
   "execution_count": 3,
   "metadata": {},
   "outputs": [],
   "source": [
    "class models_ml:\n",
    "    def __init__(self, model_name, feature_size):\n",
    "        self.model_name = model_name\n",
    "        self.feature_size = feature_size\n",
    "    \n",
    "    def get_model(self):\n",
    "        if self.model_name in {'modelLasso_nf'}:\n",
    "            return self.modelLasso_nf()\n",
    "        \n",
    "        \n",
    "    def modelLasso_nf(self):\n",
    "        model = Pipeline([         \n",
    "                          ('model_Lasso', Lasso(normalize=False,max_iter=100000))\n",
    "                         ])\n",
    "        p_grid = {\n",
    "                  'model_Lasso__alpha':[1e-9, 1e-8, 1e-7, 1e-6,1e-5,1e-4,1e-3, 1e-2, \n",
    "                                        0.1, 1e+2, 1e+3, 10000,100000,1000000, 10000000, 100000000, 1000000000]} \n",
    "        return model, p_grid"
   ]
  },
  {
   "cell_type": "markdown",
   "metadata": {},
   "source": [
    "# Study 1-3 data"
   ]
  },
  {
   "cell_type": "code",
   "execution_count": 4,
   "metadata": {},
   "outputs": [
    {
     "name": "stdout",
     "output_type": "stream",
     "text": [
      "../data/data_unbias\\s1_lh_thickness.txt\n",
      "../data/data_unbias\\s1_lh_volume.txt\n",
      "../data/data_unbias\\s1_rh_thickness.txt\n",
      "../data/data_unbias\\s1_rh_volume.txt\n",
      "../data/data_unbias\\s1_subcortical_volume.txt\n",
      "../data/data_unbias\\s2_lh_thickness.txt\n",
      "../data/data_unbias\\s2_lh_volume.txt\n",
      "../data/data_unbias\\s2_rh_thickness.txt\n",
      "../data/data_unbias\\s2_rh_volume.txt\n",
      "../data/data_unbias\\s2_subcortical_volume.txt\n",
      "../data/data_unbias\\s3_lh_thickness.txt\n",
      "../data/data_unbias\\s3_lh_volume.txt\n",
      "../data/data_unbias\\s3_rh_thickness.txt\n",
      "../data/data_unbias\\s3_rh_volume.txt\n",
      "../data/data_unbias\\s3_subcortical_volume.txt\n"
     ]
    }
   ],
   "source": [
    "s='s1_'\n",
    "s_ = '_s1'\n",
    "rpn = '_S1'\n",
    "files = sorted(glob.glob(\"../data/data_unbias/s1*\"))\n",
    "appended_data = []\n",
    "for i in files:\n",
    "    print(i)\n",
    "    temp = readFiles(feature_path = i, \n",
    "                           behavior_path = ('../data/data_unbias/RPN' + rpn + '_behavior_confounder_v1.csv'),\n",
    "                           target_str = 'QST',\n",
    "                           covar_list = ['Age','sex',''],\n",
    "                           subj_excl = ['35'], \n",
    "                           study_ext = s_)\n",
    "    appended_data.append(temp)\n",
    "\n",
    "appended_data = pd.concat(appended_data, axis=1)\n",
    "feature_s1 = appended_data\n",
    "np_s1 = np.size(feature_s1,0)\n",
    "feature_s1['batch'] = np.full((np_s1), 1, dtype=int)\n",
    "\n",
    "s='_s2'\n",
    "s_ = '_s2'\n",
    "rpn = '_S2'\n",
    "files = sorted(glob.glob(\"../data/data_unbias/s2*\"))\n",
    "appended_data = []\n",
    "for i in files:\n",
    "    print(i)\n",
    "    temp = readFiles(feature_path = i, \n",
    "                           behavior_path = ('../data/data_unbias/RPN' + rpn + '_behavior_confounder_v1.csv'),\n",
    "                           target_str = 'QST',\n",
    "                           covar_list = ['Age','sex'],\n",
    "                           subj_excl = [], \n",
    "                           study_ext = s_)\n",
    "    appended_data.append(temp)\n",
    "\n",
    "appended_data = pd.concat(appended_data, axis=1)\n",
    "feature_s2 = appended_data\n",
    "np_s2 = np.size(feature_s2,0)\n",
    "feature_s2['batch'] = np.full((np_s2), 2, dtype=int)\n",
    "\n",
    "s='_s3'\n",
    "s_ = '_s3'\n",
    "rpn = '_S3'\n",
    "files = sorted(glob.glob(\"../data/data_unbias/s3*\"))\n",
    "appended_data = []\n",
    "for i in files:\n",
    "    print(i)\n",
    "    temp = readFiles(feature_path = i, \n",
    "                           behavior_path = ('../data/data_unbias/RPN' + rpn + '_behavior_confounder_v1_dtvalues.csv'),\n",
    "                           target_str = 'QST',\n",
    "                           covar_list = ['Age','sex'],\n",
    "                           subj_excl = [], \n",
    "                           study_ext = s_)\n",
    "    appended_data.append(temp)\n",
    "\n",
    "appended_data = pd.concat(appended_data, axis=1)\n",
    "feature_s3 = appended_data\n",
    "np_s3 = np.size(feature_s3,0)\n",
    "feature_s3['batch'] = np.full((np_s3), 3, dtype=int)"
   ]
  },
  {
   "cell_type": "markdown",
   "metadata": {},
   "source": [
    "# Select cortical thickness stats"
   ]
  },
  {
   "cell_type": "code",
   "execution_count": 5,
   "metadata": {},
   "outputs": [],
   "source": [
    "features = pd.concat([feature_s1, feature_s2, feature_s3], axis = 0)\n",
    "X = features.drop(['eTIV','Age','sex','QST','batch','lh_MeanThickness_thickness',\n",
    "                                 'rh_MeanThickness_thickness','3rd-Ventricle',\n",
    "                                 '4th-Ventricle','5th-Ventricle','Left-Lateral-Ventricle',\n",
    "                                 'Left-Inf-Lat-Vent','Left-Cerebellum-White-Matter','Left-vessel',\n",
    "                                 'Left-choroid-plexus', 'Right-Lateral-Ventricle', 'Right-Inf-Lat-Vent',\n",
    "                                 'Right-Cerebellum-White-Matter','Right-vessel', 'WM-hypointensities',\n",
    "                                 'Left-WM-hypointensities','Right-WM-hypointensities',\n",
    "                                 'non-WM-hypointensities','lhCerebralWhiteMatterVol','CortexVol',\n",
    "                                 'Left-non-WM-hypointensities','Right-non-WM-hypointensities',\n",
    "                                 'rhCerebralWhiteMatterVol','TotalGrayVol',\n",
    "                                 'lhSurfaceHoles','rhSurfaceHoles','SurfaceHoles','EstimatedTotalIntraCranialVol',\n",
    "                                 'BrainSegVolNotVentSurf', 'BrainSegVol-to-eTIV','MaskVol-to-eTIV',\n",
    "                                 'MaskVol','CerebralWhiteMatterVol','BrainSegVolNotVent','BrainSegVol','CSF',\n",
    "                                 'Left-Cerebellum-Cortex','Brain-Stem','Left-Accumbens-area','Left-VentralDC',\n",
    "                                 'Right-Cerebellum-Cortex','Right-Accumbens-area','Right-VentralDC',\n",
    "                                 'Right-choroid-plexus','Optic-Chiasm','CC_Anterior','CC_Posterior','CC_Mid_Posterior',\n",
    "                                 'CC_Central','CC_Mid_Anterior','lhCortexVol','rhCortexVol',\n",
    "                                 'SubCortGrayVol','SupraTentorialVol','SupraTentorialVolNotVent',\n",
    "                                 'SupraTentorialVolNotVentVox','lh_WhiteSurfArea_area','rh_WhiteSurfArea_area'],axis=1, errors='ignore')"
   ]
  },
  {
   "cell_type": "markdown",
   "metadata": {},
   "source": [
    "# Compose final X, y, imaging covariates"
   ]
  },
  {
   "cell_type": "code",
   "execution_count": 6,
   "metadata": {},
   "outputs": [],
   "source": [
    "covariates_dup = features[['Age','sex','batch']]\n",
    "covariates =covariates_dup.T.drop_duplicates().T  \n",
    "covariates['eTIV'] = features['EstimatedTotalIntraCranialVol']\n",
    "target_dup = features['QST']\n",
    "covariates['mThickness']= (features['lh_MeanThickness_thickness']+features['rh_MeanThickness_thickness']).div(2)\n",
    "target = target_dup.T.drop_duplicates().T\n",
    "cov = np.array(covariates)"
   ]
  },
  {
   "cell_type": "markdown",
   "metadata": {},
   "source": [
    "# Select a feature set"
   ]
  },
  {
   "cell_type": "code",
   "execution_count": 7,
   "metadata": {},
   "outputs": [
    {
     "name": "stdout",
     "output_type": "stream",
     "text": [
      "Index(['Left-Thalamus', 'Left-Caudate', 'Left-Putamen', 'Left-Pallidum',\n",
      "       'Left-Hippocampus', 'Left-Amygdala', 'Right-Thalamus', 'Right-Caudate',\n",
      "       'Right-Putamen', 'Right-Pallidum', 'Right-Hippocampus',\n",
      "       'Right-Amygdala'],\n",
      "      dtype='object')\n",
      "shape =  (131, 12)\n",
      "*********************************\n",
      "Index(['lh_bankssts_thickness', 'lh_caudalanteriorcingulate_thickness',\n",
      "       'lh_caudalmiddlefrontal_thickness', 'lh_cuneus_thickness',\n",
      "       'lh_entorhinal_thickness', 'lh_fusiform_thickness',\n",
      "       'lh_inferiorparietal_thickness', 'lh_inferiortemporal_thickness',\n",
      "       'lh_isthmuscingulate_thickness', 'lh_lateraloccipital_thickness',\n",
      "       'lh_lateralorbitofrontal_thickness', 'lh_lingual_thickness',\n",
      "       'lh_medialorbitofrontal_thickness', 'lh_middletemporal_thickness',\n",
      "       'lh_parahippocampal_thickness', 'lh_paracentral_thickness',\n",
      "       'lh_parsopercularis_thickness', 'lh_parsorbitalis_thickness',\n",
      "       'lh_parstriangularis_thickness', 'lh_pericalcarine_thickness',\n",
      "       'lh_postcentral_thickness', 'lh_posteriorcingulate_thickness',\n",
      "       'lh_precentral_thickness', 'lh_precuneus_thickness',\n",
      "       'lh_rostralanteriorcingulate_thickness',\n",
      "       'lh_rostralmiddlefrontal_thickness', 'lh_superiorfrontal_thickness',\n",
      "       'lh_superiorparietal_thickness', 'lh_superiortemporal_thickness',\n",
      "       'lh_supramarginal_thickness', 'lh_frontalpole_thickness',\n",
      "       'lh_temporalpole_thickness', 'lh_transversetemporal_thickness',\n",
      "       'lh_insula_thickness'],\n",
      "      dtype='object')\n",
      "shape =  (131, 34)\n",
      "*********************************\n",
      "Index(['rh_bankssts_thickness', 'rh_caudalanteriorcingulate_thickness',\n",
      "       'rh_caudalmiddlefrontal_thickness', 'rh_cuneus_thickness',\n",
      "       'rh_entorhinal_thickness', 'rh_fusiform_thickness',\n",
      "       'rh_inferiorparietal_thickness', 'rh_inferiortemporal_thickness',\n",
      "       'rh_isthmuscingulate_thickness', 'rh_lateraloccipital_thickness',\n",
      "       'rh_lateralorbitofrontal_thickness', 'rh_lingual_thickness',\n",
      "       'rh_medialorbitofrontal_thickness', 'rh_middletemporal_thickness',\n",
      "       'rh_parahippocampal_thickness', 'rh_paracentral_thickness',\n",
      "       'rh_parsopercularis_thickness', 'rh_parsorbitalis_thickness',\n",
      "       'rh_parstriangularis_thickness', 'rh_pericalcarine_thickness',\n",
      "       'rh_postcentral_thickness', 'rh_posteriorcingulate_thickness',\n",
      "       'rh_precentral_thickness', 'rh_precuneus_thickness',\n",
      "       'rh_rostralanteriorcingulate_thickness',\n",
      "       'rh_rostralmiddlefrontal_thickness', 'rh_superiorfrontal_thickness',\n",
      "       'rh_superiorparietal_thickness', 'rh_superiortemporal_thickness',\n",
      "       'rh_supramarginal_thickness', 'rh_frontalpole_thickness',\n",
      "       'rh_temporalpole_thickness', 'rh_transversetemporal_thickness',\n",
      "       'rh_insula_thickness'],\n",
      "      dtype='object')\n",
      "shape =  (131, 34)\n",
      "*********************************\n"
     ]
    }
   ],
   "source": [
    "# SUBCORTICAL volumes - 2\n",
    "X_subcortical = X.iloc[:,136:148]\n",
    "print(X.columns[136:148])\n",
    "print('shape = ', X_subcortical.shape)\n",
    "print('*********************************')\n",
    "\n",
    "# CORTICAL thickness\n",
    "X_lhcorticalthickness = X.iloc[:,0:34]\n",
    "print(X.columns[0:34])\n",
    "print('shape = ', X_lhcorticalthickness.shape)\n",
    "print('*********************************')\n",
    "X_rhcorticalthickness = X.iloc[:,68:102]\n",
    "print(X.columns[68:102])\n",
    "print('shape = ', X_rhcorticalthickness.shape)\n",
    "print('*********************************')"
   ]
  },
  {
   "cell_type": "markdown",
   "metadata": {},
   "source": [
    "# Groups"
   ]
  },
  {
   "cell_type": "code",
   "execution_count": 8,
   "metadata": {
    "scrolled": true
   },
   "outputs": [
    {
     "data": {
      "image/png": "[encoded data removed]",
      "text/plain": [
       "<Figure size 864x21.6 with 2 Axes>"
      ]
     },
     "metadata": {
      "needs_background": "light"
     },
     "output_type": "display_data"
    }
   ],
   "source": [
    "groups=np.zeros(len(X), dtype=int)\n",
    "site = []\n",
    "clr = np.zeros(len(X), dtype=float)\n",
    "g=0\n",
    "i=0\n",
    "while i < np_s1:\n",
    "    groups[i] = g\n",
    "    s_name = 'study 1'\n",
    "    site.append(s_name)\n",
    "    #groups[i+1] = g\n",
    "    clr[i] = 0.1\n",
    "    i += 1\n",
    "    g += 1\n",
    "  \n",
    "\n",
    "g=0\n",
    "i=np_s1\n",
    "while i < np_s1+np_s2:\n",
    "    groups[i] = g\n",
    "    s_name = 'study 2'\n",
    "    site.append(s_name)\n",
    "    clr[i] = 0.5\n",
    "    #groups[i+1] = g\n",
    "    i += 1\n",
    "    g += 1\n",
    "\n",
    "\n",
    "g=0\n",
    "i=np_s1+np_s2\n",
    "while i < len(X):\n",
    "    groups[i] = g\n",
    "    s_name = 'study 3'\n",
    "    site.append(s_name)\n",
    "    clr[i] = 0.8\n",
    "    i += 1\n",
    "    g += 1\n",
    "    \n",
    "\n",
    "plt.figure(figsize=(12, 0.3))\n",
    "sns.heatmap([groups]).set_title('groups')\n",
    "plt.show() \n",
    "groups  \n",
    "sites = pd.DataFrame(site)\n",
    "sites.columns = ['centre']\n",
    "sites.index = covariates.index\n",
    "clrs = pd.DataFrame(clr)\n",
    "clrs.columns = ['centre']\n",
    "clrs.index = sites.index"
   ]
  },
  {
   "cell_type": "markdown",
   "metadata": {},
   "source": [
    "# do not Regress out eTIV"
   ]
  },
  {
   "cell_type": "code",
   "execution_count": 9,
   "metadata": {},
   "outputs": [
    {
     "data": {
      "text/html": [
       "<div>\n",
       "<style scoped>\n",
       "    .dataframe tbody tr th:only-of-type {\n",
       "        vertical-align: middle;\n",
       "    }\n",
       "\n",
       "    .dataframe tbody tr th {\n",
       "        vertical-align: top;\n",
       "    }\n",
       "\n",
       "    .dataframe thead th {\n",
       "        text-align: right;\n",
       "    }\n",
       "</style>\n",
       "<table border=\"1\" class=\"dataframe\">\n",
       "  <thead>\n",
       "    <tr style=\"text-align: right;\">\n",
       "      <th></th>\n",
       "      <th>lh_bankssts_thickness</th>\n",
       "      <th>lh_caudalanteriorcingulate_thickness</th>\n",
       "      <th>lh_caudalmiddlefrontal_thickness</th>\n",
       "      <th>lh_cuneus_thickness</th>\n",
       "      <th>lh_entorhinal_thickness</th>\n",
       "      <th>lh_fusiform_thickness</th>\n",
       "      <th>lh_inferiorparietal_thickness</th>\n",
       "      <th>lh_inferiortemporal_thickness</th>\n",
       "      <th>lh_isthmuscingulate_thickness</th>\n",
       "      <th>lh_lateraloccipital_thickness</th>\n",
       "      <th>...</th>\n",
       "      <th>rh_rostralmiddlefrontal_thickness</th>\n",
       "      <th>rh_superiorfrontal_thickness</th>\n",
       "      <th>rh_superiorparietal_thickness</th>\n",
       "      <th>rh_superiortemporal_thickness</th>\n",
       "      <th>rh_supramarginal_thickness</th>\n",
       "      <th>rh_frontalpole_thickness</th>\n",
       "      <th>rh_temporalpole_thickness</th>\n",
       "      <th>rh_transversetemporal_thickness</th>\n",
       "      <th>rh_insula_thickness</th>\n",
       "      <th>eTIV</th>\n",
       "    </tr>\n",
       "  </thead>\n",
       "  <tbody>\n",
       "    <tr>\n",
       "      <th>sub-004_T1w_s1</th>\n",
       "      <td>1.022095</td>\n",
       "      <td>1.085502</td>\n",
       "      <td>1.007340</td>\n",
       "      <td>0.814326</td>\n",
       "      <td>1.414503</td>\n",
       "      <td>1.103847</td>\n",
       "      <td>0.981817</td>\n",
       "      <td>1.101454</td>\n",
       "      <td>0.926386</td>\n",
       "      <td>0.882120</td>\n",
       "      <td>...</td>\n",
       "      <td>0.927582</td>\n",
       "      <td>1.105043</td>\n",
       "      <td>0.845033</td>\n",
       "      <td>1.166855</td>\n",
       "      <td>1.032463</td>\n",
       "      <td>1.082711</td>\n",
       "      <td>1.439228</td>\n",
       "      <td>0.981020</td>\n",
       "      <td>1.245815</td>\n",
       "      <td>1.563487</td>\n",
       "    </tr>\n",
       "    <tr>\n",
       "      <th>sub-005_T1w_s1</th>\n",
       "      <td>0.970548</td>\n",
       "      <td>1.036479</td>\n",
       "      <td>1.019689</td>\n",
       "      <td>0.750229</td>\n",
       "      <td>1.159334</td>\n",
       "      <td>1.043441</td>\n",
       "      <td>0.995119</td>\n",
       "      <td>1.060231</td>\n",
       "      <td>0.939425</td>\n",
       "      <td>0.913625</td>\n",
       "      <td>...</td>\n",
       "      <td>0.963996</td>\n",
       "      <td>1.155239</td>\n",
       "      <td>0.889874</td>\n",
       "      <td>1.117154</td>\n",
       "      <td>1.009861</td>\n",
       "      <td>1.020099</td>\n",
       "      <td>1.235913</td>\n",
       "      <td>0.974643</td>\n",
       "      <td>1.117154</td>\n",
       "      <td>1.777286</td>\n",
       "    </tr>\n",
       "  </tbody>\n",
       "</table>\n",
       "<p>2 rows × 69 columns</p>\n",
       "</div>"
      ],
      "text/plain": [
       "                lh_bankssts_thickness  lh_caudalanteriorcingulate_thickness  \\\n",
       "sub-004_T1w_s1               1.022095                              1.085502   \n",
       "sub-005_T1w_s1               0.970548                              1.036479   \n",
       "\n",
       "                lh_caudalmiddlefrontal_thickness  lh_cuneus_thickness  \\\n",
       "sub-004_T1w_s1                          1.007340             0.814326   \n",
       "sub-005_T1w_s1                          1.019689             0.750229   \n",
       "\n",
       "                lh_entorhinal_thickness  lh_fusiform_thickness  \\\n",
       "sub-004_T1w_s1                 1.414503               1.103847   \n",
       "sub-005_T1w_s1                 1.159334               1.043441   \n",
       "\n",
       "                lh_inferiorparietal_thickness  lh_inferiortemporal_thickness  \\\n",
       "sub-004_T1w_s1                       0.981817                       1.101454   \n",
       "sub-005_T1w_s1                       0.995119                       1.060231   \n",
       "\n",
       "                lh_isthmuscingulate_thickness  lh_lateraloccipital_thickness  \\\n",
       "sub-004_T1w_s1                       0.926386                       0.882120   \n",
       "sub-005_T1w_s1                       0.939425                       0.913625   \n",
       "\n",
       "                ...  rh_rostralmiddlefrontal_thickness  \\\n",
       "sub-004_T1w_s1  ...                           0.927582   \n",
       "sub-005_T1w_s1  ...                           0.963996   \n",
       "\n",
       "                rh_superiorfrontal_thickness  rh_superiorparietal_thickness  \\\n",
       "sub-004_T1w_s1                      1.105043                       0.845033   \n",
       "sub-005_T1w_s1                      1.155239                       0.889874   \n",
       "\n",
       "                rh_superiortemporal_thickness  rh_supramarginal_thickness  \\\n",
       "sub-004_T1w_s1                       1.166855                    1.032463   \n",
       "sub-005_T1w_s1                       1.117154                    1.009861   \n",
       "\n",
       "                rh_frontalpole_thickness  rh_temporalpole_thickness  \\\n",
       "sub-004_T1w_s1                  1.082711                   1.439228   \n",
       "sub-005_T1w_s1                  1.020099                   1.235913   \n",
       "\n",
       "                rh_transversetemporal_thickness  rh_insula_thickness      eTIV  \n",
       "sub-004_T1w_s1                         0.981020             1.245815  1.563487  \n",
       "sub-005_T1w_s1                         0.974643             1.117154  1.777286  \n",
       "\n",
       "[2 rows x 69 columns]"
      ]
     },
     "execution_count": 9,
     "metadata": {},
     "output_type": "execute_result"
    }
   ],
   "source": [
    "X_feature = pd.concat([X_lhcorticalthickness.div(covariates['mThickness'],axis=0),\n",
    "                       X_rhcorticalthickness.div(covariates['mThickness'],axis=0)],axis=1)\n",
    "y=target['QST']\n",
    "X_feature['eTIV'] = covariates['eTIV'].div(1000000)\n",
    "X_norm = X_feature\n",
    "X_norm.head(2)"
   ]
  },
  {
   "cell_type": "code",
   "execution_count": 10,
   "metadata": {
    "scrolled": true
   },
   "outputs": [
    {
     "data": {
      "text/html": [
       "<div>\n",
       "<style scoped>\n",
       "    .dataframe tbody tr th:only-of-type {\n",
       "        vertical-align: middle;\n",
       "    }\n",
       "\n",
       "    .dataframe tbody tr th {\n",
       "        vertical-align: top;\n",
       "    }\n",
       "\n",
       "    .dataframe thead th {\n",
       "        text-align: right;\n",
       "    }\n",
       "</style>\n",
       "<table border=\"1\" class=\"dataframe\">\n",
       "  <thead>\n",
       "    <tr style=\"text-align: right;\">\n",
       "      <th></th>\n",
       "      <th>Age</th>\n",
       "      <th>sex</th>\n",
       "      <th>batch</th>\n",
       "      <th>eTIV</th>\n",
       "      <th>mThickness</th>\n",
       "    </tr>\n",
       "  </thead>\n",
       "  <tbody>\n",
       "    <tr>\n",
       "      <th>sub-004_T1w_s1</th>\n",
       "      <td>25.552361</td>\n",
       "      <td>1.0</td>\n",
       "      <td>1.0</td>\n",
       "      <td>1.563487e+06</td>\n",
       "      <td>2.507595</td>\n",
       "    </tr>\n",
       "    <tr>\n",
       "      <th>sub-005_T1w_s1</th>\n",
       "      <td>23.800137</td>\n",
       "      <td>1.0</td>\n",
       "      <td>1.0</td>\n",
       "      <td>1.777286e+06</td>\n",
       "      <td>2.441920</td>\n",
       "    </tr>\n",
       "    <tr>\n",
       "      <th>sub-006_T1w_s1</th>\n",
       "      <td>33.453799</td>\n",
       "      <td>1.0</td>\n",
       "      <td>1.0</td>\n",
       "      <td>1.581288e+06</td>\n",
       "      <td>2.492065</td>\n",
       "    </tr>\n",
       "    <tr>\n",
       "      <th>sub-007_T1w_s1</th>\n",
       "      <td>26.119097</td>\n",
       "      <td>1.0</td>\n",
       "      <td>1.0</td>\n",
       "      <td>1.648965e+06</td>\n",
       "      <td>2.489610</td>\n",
       "    </tr>\n",
       "    <tr>\n",
       "      <th>sub-008_T1w_s1</th>\n",
       "      <td>25.445585</td>\n",
       "      <td>1.0</td>\n",
       "      <td>1.0</td>\n",
       "      <td>1.584414e+06</td>\n",
       "      <td>2.546875</td>\n",
       "    </tr>\n",
       "  </tbody>\n",
       "</table>\n",
       "</div>"
      ],
      "text/plain": [
       "                      Age  sex  batch          eTIV  mThickness\n",
       "sub-004_T1w_s1  25.552361  1.0    1.0  1.563487e+06    2.507595\n",
       "sub-005_T1w_s1  23.800137  1.0    1.0  1.777286e+06    2.441920\n",
       "sub-006_T1w_s1  33.453799  1.0    1.0  1.581288e+06    2.492065\n",
       "sub-007_T1w_s1  26.119097  1.0    1.0  1.648965e+06    2.489610\n",
       "sub-008_T1w_s1  25.445585  1.0    1.0  1.584414e+06    2.546875"
      ]
     },
     "execution_count": 10,
     "metadata": {},
     "output_type": "execute_result"
    }
   ],
   "source": [
    "covariates.head()"
   ]
  },
  {
   "cell_type": "markdown",
   "metadata": {},
   "source": [
    "# Machine learning"
   ]
  },
  {
   "cell_type": "code",
   "execution_count": 11,
   "metadata": {},
   "outputs": [
    {
     "name": "stdout",
     "output_type": "stream",
     "text": [
      "feature size =69\n"
     ]
    }
   ],
   "source": [
    "model_try = 'modelLasso_nf'\n",
    "model_steps = 'model_Lasso'\n",
    "feature_size = np.size(X_norm, 1)\n",
    "print('feature size =' + str(feature_size))\n",
    "model_get = models_ml(model_try, feature_size)\n",
    "model, p_grid = model_get.get_model()\n",
    "cov = np.array(covariates)"
   ]
  },
  {
   "cell_type": "code",
   "execution_count": 12,
   "metadata": {},
   "outputs": [
    {
     "data": {
      "text/plain": [
       "array([ 0,  1,  2,  3,  4,  5,  6,  7,  8,  9, 10, 11, 12, 13, 14, 15, 16,\n",
       "       17, 18, 19, 20, 21, 22, 23, 24, 25, 26, 27, 28, 29, 30, 31, 32, 33,\n",
       "       34, 35, 36, 37, 38, 39, 40, 41, 42, 43, 44, 45, 46, 47, 48, 49, 50,\n",
       "       51, 52, 53, 54, 55, 56, 57, 58, 59, 60, 61, 62, 63, 64, 65, 66, 67,\n",
       "       68])"
      ]
     },
     "execution_count": 12,
     "metadata": {},
     "output_type": "execute_result"
    }
   ],
   "source": [
    "np.arange(0,np.size(X_feature,1),1)"
   ]
  },
  {
   "cell_type": "code",
   "execution_count": 13,
   "metadata": {
    "scrolled": true
   },
   "outputs": [
    {
     "name": "stdout",
     "output_type": "stream",
     "text": [
      "Fitting 10 folds for each of 17 candidates, totalling 170 fits\n",
      "[  3  13  24  32  40  50  61  69  80  89  99 110 118 129]\n",
      "Fitting 10 folds for each of 17 candidates, totalling 170 fits\n",
      "[  2  12  23  34  39  49  60  71  81  88  98 109 120 130]\n",
      "Fitting 10 folds for each of 17 candidates, totalling 170 fits\n",
      "[  1  11  21  30  38  48  58  67  83  87  97 107 116]\n",
      "Fitting 10 folds for each of 17 candidates, totalling 170 fits\n",
      "[ 10  20  22  29  47  57  59  66  84  96 106 108 115]\n",
      "Fitting 10 folds for each of 17 candidates, totalling 170 fits\n",
      "[  0   9  19  28  37  46  56  65  82  86  95 105 114]\n",
      "Fitting 10 folds for each of 17 candidates, totalling 170 fits\n",
      "[  8  18  27  36  45  55  64  73  85  94 104 113 122]\n",
      "Fitting 10 folds for each of 17 candidates, totalling 170 fits\n",
      "[  7  17  26  31  44  54  63  68  93 103 112 117]\n",
      "Fitting 10 folds for each of 17 candidates, totalling 170 fits\n",
      "[  6  16  25  43  53  62  74  77  92 102 111 123 126]\n",
      "Fitting 10 folds for each of 17 candidates, totalling 170 fits\n",
      "[  5  15  35  42  52  72  75  78  91 101 121 124 127]\n",
      "Fitting 10 folds for each of 17 candidates, totalling 170 fits\n",
      "[  4  14  33  41  51  70  76  79  90 100 119 125 128]\n",
      "*** Score on mean as model:\t-0.5315566498344722\n",
      "** Mean score in the inner crossvaludation (inner_cv):\t-0.49719686069781527\n",
      "** Mean Nested Crossvalidation Score (outer_cv):\t-0.4859477787210767\n",
      "Explained Variance: 0.08580246550879977\n",
      "Correlation: 0.35703865872773605\n",
      "nested pearson r = 0.35703865872773605 permutation p =0.0002\n"
     ]
    },
    {
     "data": {
      "text/plain": [
       "rh_frontalpole_thickness                 0.113517\n",
       "lh_entorhinal_thickness                 -0.010027\n",
       "rh_parahippocampal_thickness            -0.024850\n",
       "lh_temporalpole_thickness               -0.209141\n",
       "lh_parahippocampal_thickness            -0.531616\n",
       "rh_rostralanteriorcingulate_thickness   -1.665483\n",
       "dtype: float64"
      ]
     },
     "execution_count": 13,
     "metadata": {},
     "output_type": "execute_result"
    }
   ],
   "source": [
    "outer_cv = GroupKFold(10)\n",
    "inner_cv = GroupKFold(10)                                    \n",
    "clf = GridSearchCV(estimator=model, param_grid=p_grid, cv=inner_cv,\n",
    "                   scoring=\"neg_mean_squared_error\", verbose=True, return_train_score=False,\n",
    "                   n_jobs=-1)\n",
    "results_cv = []\n",
    "all_models = []\n",
    "best_params = []\n",
    "predicted = np.zeros(len(y))\n",
    "pred_test = np.zeros(len(y))\n",
    "nested_scores_train = np.zeros(outer_cv.get_n_splits(X_norm))\n",
    "nested_scores_test = np.zeros(outer_cv.get_n_splits(X_norm))   \n",
    "                                    \n",
    "#print(\"model\\tinner_cv mean score\\touter vc score\")\n",
    "i=0\n",
    "for train, test in outer_cv.split(X_norm, y, groups=groups):\n",
    "    group_train = groups[train]  \n",
    "    #########################################################################################\n",
    "    # use comabt \n",
    "    comb = CombatModel()\n",
    "    X_train_combat = comb.fit_transform(X_norm.iloc[train],\n",
    "                                   np.array([covariates.batch.values[train]]).transpose(),\n",
    "                                   np.array([covariates.sex.values[train]]).transpose(),\n",
    "                                   np.array([covariates.Age.values[train]]).transpose()\n",
    "                                       )\n",
    "    \n",
    "    #########################################################################################                                    \n",
    "    # 1. fit LASSO on combat model without TIV as a feature, ind = 68                                    \n",
    "    clf.fit(X_train_combat[:,0:68], y[train], groups=group_train)\n",
    "    # 2. predict same training data with the best estimator\n",
    "    pred_train = clf.predict(X_train_combat[:,0:68])\n",
    "    # 3. use training data and batch corrected TIV to fit a linear regression model\n",
    "    lr = LinearRegression()\n",
    "    lr.fit(pd.DataFrame(X_train_combat[:,68]),pred_train)\n",
    "\n",
    "    \n",
    "    #########################################################################################\n",
    "    #use combat\n",
    "    X_test_combat = comb.transform(X_norm.iloc[test],\n",
    "                                   np.array([covariates.batch.values[test]]).transpose(),\n",
    "                                   np.array([covariates.sex.values[test]]).transpose(),\n",
    "                                   np.array([covariates.Age.values[test]]).transpose()\n",
    "                                  )\n",
    "    #                           \n",
    "    #########################################################################################\n",
    "    #print('cv:', i, str(clf.best_params_) + \" \" + str(clf.best_score_) + \" \" + str(clf.score(X_test_combat, y[test])))\n",
    "    #all_models.append(clf.best_estimator_)\n",
    "    #best_params.append(clf.best_params_)\n",
    "    print(test)\n",
    "    # 4. use batch corrected test data to predict with LASSO\n",
    "    pred_test[test] = clf.predict(X_test_combat[:,0:68])\n",
    "    # 5. use batch corrected TIV to predict test features.\n",
    "    pred_test_using_tiv = lr.predict(pd.DataFrame(X_test_combat[:,68]))\n",
    "    # 6. consider residuals as final predicted QST from test\n",
    "    predicted[test] = pred_test[test] - pred_test_using_tiv\n",
    "                                    \n",
    "    nested_scores_train[i] = clf.best_score_\n",
    "    nested_scores_test[i] = clf.score(X_test_combat[:,0:68], y[test])\n",
    "    i = i+1\n",
    "    \n",
    "    weights=clf.best_estimator_.named_steps[model_steps].coef_\n",
    "    weights_idx = np.nonzero(weights)\n",
    "    res = pd.DataFrame([weights[weights_idx], X_feature.columns[weights_idx]])\n",
    "    main = res.T.sort_values(by=0)\n",
    "    #print(main)\n",
    "    weights_res = weights.flatten()\n",
    "    results_cv.append(weights_res)\n",
    "print(\"*** Score on mean as model:\\t\" + str(-mean_squared_error(np.repeat(y.mean(), len(y)), y)))\n",
    "print(\"** Mean score in the inner crossvaludation (inner_cv):\\t\" + str(nested_scores_train.mean()))\n",
    "print(\"** Mean Nested Crossvalidation Score (outer_cv):\\t\" + str(nested_scores_test.mean()))\n",
    "print(\"Explained Variance: \" +  str( 1- nested_scores_test.mean()/-mean_squared_error(np.repeat(y.mean(), len(y)), y) ))\n",
    "print(\"Correlation: \" + str(np.corrcoef(y, predicted)[0,1]))\n",
    "                                    \n",
    "p_corr = permutation_test(predicted, y,\n",
    "                           func=lambda x, y: np.corrcoef(x, y)[0,1],\n",
    "                           method='approximate',\n",
    "                           num_rounds=10000,\n",
    "                           seed=42)\n",
    "print('nested pearson r = ' + str(np.corrcoef(predicted, y)[0,1]) + ' permutation p =' + str(round(p_corr,4)) )\n",
    "\n",
    "df_results_res = pd.DataFrame(results_cv)\n",
    "col_names = X_norm.columns[0:68]\n",
    "df_results_res.columns = col_names\n",
    "\n",
    "df_results_res.to_csv('nested_cv_results.csv')\n",
    "new = df_results_res.loc[:, (df_results_res != 0).any(axis=0)]\n",
    "new_mean = new.mean(axis = 0)\n",
    "#new_mean.to_csv('resultsNestedCV')\n",
    "new_mean.sort_values(ascending=False)"
   ]
  },
  {
   "cell_type": "markdown",
   "metadata": {},
   "source": [
    "# Figure 2 part 1: scatter plot predictions (multi-centre) + learning curve"
   ]
  },
  {
   "cell_type": "code",
   "execution_count": 14,
   "metadata": {},
   "outputs": [
    {
     "data": {
      "text/plain": [
       "Pipeline(steps=[('model_Lasso', Lasso(alpha=0.01, max_iter=100000))])"
      ]
     },
     "execution_count": 14,
     "metadata": {},
     "output_type": "execute_result"
    }
   ],
   "source": [
    "clf.best_estimator_"
   ]
  },
  {
   "cell_type": "code",
   "execution_count": 15,
   "metadata": {},
   "outputs": [
    {
     "data": {
      "image/png": "[encoded data removed]",
      "text/plain": [
       "<Figure size 1152x576 with 2 Axes>"
      ]
     },
     "metadata": {
      "needs_background": "light"
     },
     "output_type": "display_data"
    }
   ],
   "source": [
    "#############################LEARNING CURVE##########################################################\n",
    "fs = 22\n",
    "fs_title = 24\n",
    "fs_tick = 18\n",
    "\n",
    "comb_lc = CombatModel()\n",
    "X_feature_combat = comb_lc.fit_transform(X_feature,\n",
    "                                np.array([covariates.batch.values]).transpose(),\n",
    "                                np.array([covariates.sex.values]).transpose(),\n",
    "                                np.array([covariates.Age.values]).transpose()\n",
    "                                    )\n",
    "\n",
    "\n",
    "cv = GroupKFold(10)\n",
    "train_sizes, train_scores, test_scores = learning_curve(clf.best_estimator_, X_feature_combat[:,0:68], y, groups=groups, \n",
    "                                                        cv=cv, scoring=\"neg_mean_squared_error\", n_jobs=None,  \n",
    "                                                        random_state=None,shuffle=False,\n",
    "                                                        train_sizes = np.linspace(0.1, 1, num=10))\n",
    "\n",
    "temp_train = pd.DataFrame(train_scores)\n",
    "temp_test = pd.DataFrame(test_scores)\n",
    "train_mean = temp_train.mean(axis=1)\n",
    "train_std = temp_train.std(axis=1)\n",
    "test_mean = temp_test.mean(axis=1)\n",
    "test_std = temp_test.std(axis=1)\n",
    "\n",
    "fig, (axs1,axs2) = plt.subplots(ncols=2, figsize=(16,8), sharex=False, sharey=False)\n",
    "\n",
    "fig.tight_layout(pad=6)\n",
    "sns.set_style('ticks')\n",
    "axs2.grid(True)\n",
    "axs2.spines['top'].set_visible(False)\n",
    "axs2.spines['bottom'].set_visible(False)\n",
    "axs2.spines['right'].set_visible(False)\n",
    "axs2.spines['left'].set_visible(False)\n",
    "axs2.set_title('b) learning curve',fontsize=fs)\n",
    "axs2.set_xlabel('sample size',fontsize=fs)\n",
    "axs2.set_ylabel('mean squared error',fontsize=fs)\n",
    "\n",
    "\n",
    "\n",
    "g=sns.lineplot(train_sizes,train_mean,ax=axs2,label='train')\n",
    "g=sns.lineplot(train_sizes,test_mean,ax=axs2, label='validation', color='lightblue')\n",
    "axs2.tick_params(axis='x', which='major', labelsize=fs_tick)\n",
    "axs2.tick_params(axis='y', which='major', labelsize=fs_tick)\n",
    "plt.setp(g.get_legend().get_texts(), fontsize='18') # for legend text\n",
    "\n",
    "#plt.suptitle('Multi-center model predicting pain sensitivity',fontsize=fs_title, fontweight = \"bold\" )\n",
    "g.lines[0].set_label('train set')\n",
    "axs2.ticklabel_format(axis=\"y\", style=\"sci\", scilimits=(0,0))\n",
    "#plt.rc('font', size=18)\n",
    "\n",
    "##################################POOLED CORRELATION##################################################\n",
    "data = pd.DataFrame(y)\n",
    "predicted = pd.DataFrame(predicted)\n",
    "predicted.index = data.index\n",
    "predicted.columns = ['predicted']\n",
    "data = pd.concat([data, predicted,sites],axis=1)\n",
    "axs1.tick_params(axis='x', which='major', labelsize=fs_tick)\n",
    "axs1.tick_params(axis='y', which='major', labelsize=fs_tick)\n",
    "g=sns.regplot(x='QST', y='predicted',data=data,scatter=True, ax =axs1, color ='tab:blue', scatter_kws={'alpha':0.5, 's':100} )\n",
    "\n",
    "axs1.spines['top'].set_visible(False)\n",
    "axs1.spines['bottom'].set_visible(False)\n",
    "axs1.spines['right'].set_visible(False)\n",
    "axs1.spines['left'].set_visible(False)\n",
    "axs1.set_xlabel('pain sensitivity',fontsize=fs)\n",
    "axs1.set_ylabel('prediction',fontsize=fs)\n",
    "axs1.set_xlim([-2, 1.65])\n",
    "axs1.set_ylim([-.47, .4])\n",
    "axs1.grid(True)\n",
    "\n",
    "c_temp=round(np.corrcoef(data['predicted'],data['QST'])[0,1],2)\n",
    "p_temp =round(permutation_test(data['predicted'],data['QST'],\n",
    "                           func=lambda x, y: np.abs(np.corrcoef(x, y))[0,1],\n",
    "                           method='approximate',\n",
    "                           num_rounds=10000,\n",
    "                           seed=42),4 )\n",
    "#g.set(title='a) multi-centre ' + '(r = ' + str(c_temp) + ', p = ' + str(p_temp) + ')' , fontsize=14)\n",
    "#axs1.set_title('a) multi-center ' + '(r = ' + str(c_temp) + ', p = ' + str(p_temp) + ')' , fontsize=18)\n",
    "axs1.set_title('a) r = ' + str(c_temp) + ', p = ' + str(p_temp)  , fontsize=22)\n",
    "plt.tight_layout(rect=[0, 0.03, 1, 0.95])\n",
    "#plt.tight_layout\n",
    "#axs1.set_xticklabels(axs1.get_xmajorticklabels(), fontsize = 13)\n",
    "#axs1.set_yticklabels(axs1.get_ymajorticklabels(), fontsize = 13)\n",
    "plt.savefig(\"../output/manuscript_f1-a-b.jpg\", dpi=1200, bbox_inches = 'tight')\n"
   ]
  },
  {
   "cell_type": "code",
   "execution_count": 16,
   "metadata": {},
   "outputs": [
    {
     "data": {
      "image/png": "[encoded data removed]",
      "text/plain": [
       "<Figure size 1152x432 with 3 Axes>"
      ]
     },
     "metadata": {},
     "output_type": "display_data"
    }
   ],
   "source": [
    "sns.set_style('ticks')\n",
    "fig, axs = plt.subplots(ncols=3, figsize=(16,6), sharex=False, sharey=False)\n",
    "\n",
    "##########################################################################################################\n",
    "col=0\n",
    "data = pd.DataFrame(y)\n",
    "predicted = pd.DataFrame(predicted)\n",
    "predicted.index = data.index\n",
    "predicted.columns = ['predicted']\n",
    "data = pd.concat([data, predicted,sites],axis=1)\n",
    "data_s1 = data.iloc[0:np_s1,:]\n",
    "g=sns.regplot(x='QST', y='predicted',data=data_s1,scatter=True, ax =axs[col], color ='tab:blue', scatter_kws={'alpha':0.5, 's':100})\n",
    "axs[col].tick_params(axis='x', which='major', labelsize=18)\n",
    "axs[col].tick_params(axis='y', which='major', labelsize=18)\n",
    "#plt.suptitle('Out-of-center generalization predictions', fontsize= 24, fontweight = \"bold\")\n",
    "axs[col].set_xlabel('')\n",
    "axs[col].set_ylabel('prediction', fontsize = 22)\n",
    "axs[col].spines['top'].set_visible(False)\n",
    "axs[col].spines['bottom'].set_visible(False)\n",
    "axs[col].spines['right'].set_visible(False)\n",
    "axs[col].spines['left'].set_visible(False)\n",
    "axs[col].set_xlim([-2, 2])\n",
    "axs[col].set_ylim([-.55, .15])\n",
    "axs[col].grid(True)\n",
    "c_temp=round(np.corrcoef(data_s1['QST'], data_s1['predicted'])[0,1],2)\n",
    "p_temp =round(permutation_test(data_s1['QST'],data_s1['predicted'],\n",
    "                           func=lambda x, y: np.corrcoef(x, y)[0,1],\n",
    "                           method='approximate',\n",
    "                           num_rounds=10000,\n",
    "                           seed=42),2 )\n",
    "axs[col].set_title('c) study 1: ' + 'r = ' + str(c_temp) + ', p = ' + str(p_temp), fontsize=22)\n",
    "##########################################################################################################\n",
    "\n",
    "col=1\n",
    "data = pd.DataFrame(y)\n",
    "predicted = pd.DataFrame(predicted)\n",
    "predicted.index = data.index\n",
    "predicted.columns = ['predicted']\n",
    "data = pd.concat([data, predicted,sites],axis=1)\n",
    "data_s2 = data.iloc[np_s1:np_s1+np_s2,:]\n",
    "g=sns.regplot(x='QST', y='predicted',data=data_s2,scatter=True, ax =axs[col],color ='tab:blue', scatter_kws={'alpha':0.5, 's':100} )\n",
    "axs[col].tick_params(axis='x', which='major', labelsize=18)\n",
    "axs[col].tick_params(axis='y', which='major', labelsize=18)\n",
    "axs[col].set_xlabel('pain sensitivity', fontsize = 22)\n",
    "axs[col].set_ylabel('')\n",
    "axs[col].spines['top'].set_visible(False)\n",
    "axs[col].spines['bottom'].set_visible(False)\n",
    "axs[col].spines['right'].set_visible(False)\n",
    "axs[col].spines['left'].set_visible(False)\n",
    "axs[col].set_xlim([-2, 2])\n",
    "axs[col].set_ylim([-.25, .65])\n",
    "axs[col].grid(True)\n",
    "c_temp=round(np.corrcoef(data_s2['QST'], data_s2['predicted'])[0,1],2)\n",
    "p_temp =round(permutation_test(data_s2['QST'],data_s2['predicted'],\n",
    "                           func=lambda x, y: np.corrcoef(x, y)[0,1],\n",
    "                           method='approximate',\n",
    "                           num_rounds=10000,\n",
    "                           seed=42),2 )\n",
    "axs[col].set_title('d) study 2: ' + 'r = ' + str(c_temp) + ', p = ' + str(p_temp) , fontsize=22 )\n",
    "\n",
    "##########################################################################################################\n",
    "\n",
    "col=2\n",
    "data = pd.DataFrame(y)\n",
    "predicted = pd.DataFrame(predicted)\n",
    "predicted.index = data.index\n",
    "predicted.columns = ['predicted']\n",
    "data = pd.concat([data, predicted,sites],axis=1)\n",
    "data_s3 = data.iloc[np_s1+np_s2:np_s1+np_s2+np_s3]\n",
    "g=sns.regplot(x='QST', y='predicted',data=data_s3,scatter=True, ax =axs[col], color ='tab:blue', scatter_kws={'alpha':0.5, 's':100})\n",
    "axs[col].tick_params(axis='x', which='major', labelsize=18)\n",
    "axs[col].tick_params(axis='y', which='major', labelsize=18)\n",
    "axs[col].spines['top'].set_visible(False)\n",
    "axs[col].spines['bottom'].set_visible(False)\n",
    "axs[col].spines['right'].set_visible(False)\n",
    "axs[col].spines['left'].set_visible(False)\n",
    "axs[col].set_xlim([-2, 2])\n",
    "axs[col].set_ylim([-.35, .4])\n",
    "axs[col].grid(True)\n",
    "axs[col].set_xlabel('')\n",
    "axs[col].set_ylabel('')\n",
    "c_temp=round(np.corrcoef(data_s3['QST'], data_s3['predicted'])[0,1],2)\n",
    "p_temp =round(permutation_test(data_s3['QST'],data_s3['predicted'],\n",
    "                           func=lambda x, y: np.corrcoef(x, y)[0,1],\n",
    "                           method='approximate',\n",
    "                           num_rounds=10000,\n",
    "                           seed=42),3)\n",
    "axs[col].set_title('e) study 3: ' + 'r = ' + str(c_temp) + ', p = ' + str(p_temp) , fontsize=22 )\n",
    "plt.tight_layout\n",
    "plt.tight_layout(rect=[0, 0.03, 1, 0.95])\n",
    "plt.savefig(\"../output/manuscript_sf1.jpg\", dpi=1200, bbox_inches = 'tight')\n"
   ]
  },
  {
   "cell_type": "markdown",
   "metadata": {},
   "source": [
    "# Figure 3: correlations for QST with features of importance"
   ]
  },
  {
   "cell_type": "code",
   "execution_count": 17,
   "metadata": {},
   "outputs": [],
   "source": [
    "comb_lc = CombatModel()\n",
    "X_feature_combat = comb_lc.fit_transform(X_feature,\n",
    "                                np.array([covariates.batch.values]).transpose(),\n",
    "                                np.array([covariates.sex.values]).transpose(),\n",
    "                                np.array([covariates.Age.values]).transpose()\n",
    "                                    )\n",
    "df_X_feature_combat_whole = pd.DataFrame(X_feature_combat)\n",
    "df_X_feature_combat_whole.index = X_feature.index\n",
    "df_X_feature_combat_whole.columns = X_feature.columns                                    \n",
    "res = []                        \n",
    "for q in np.arange(0,np.size(X_feature_combat,1),1):\n",
    "    lr_features = LinearRegression()\n",
    "    lr_features.fit(pd.DataFrame(X_feature_combat[:,68]),X_feature_combat[:,q])\n",
    "    lr_features_pred = lr_features.predict(pd.DataFrame(X_feature_combat[:,68]))\n",
    "    resid = X_feature_combat[:,q] - lr_features_pred\n",
    "    res.append(resid)\n",
    "X_feature_combat_tiv = pd.DataFrame(res)\n",
    "X_feature_importance = X_feature_combat_tiv.transpose()\n",
    "X_feature_importance.columns = X_feature.columns\n",
    "X_feature_importance.index = X_feature.index\n",
    "X_feature_importance['predicted'] = predicted\n",
    "X_feature_importance['predicted_without_tiv_corr'] = pred_test"
   ]
  },
  {
   "cell_type": "code",
   "execution_count": 18,
   "metadata": {
    "scrolled": true
   },
   "outputs": [
    {
     "data": {
      "image/png": "[encoded data removed]",
      "text/plain": [
       "<Figure size 1152x432 with 3 Axes>"
      ]
     },
     "metadata": {},
     "output_type": "display_data"
    }
   ],
   "source": [
    "fs = 22\n",
    "fs_title = 24\n",
    "fs_tick = 18\n",
    "X_combat_racc = X_feature_importance['rh_rostralanteriorcingulate_thickness']\n",
    "X_combat_lphg = X_feature_importance['lh_parahippocampal_thickness']\n",
    "X_combat_ltp = X_feature_importance['lh_temporalpole_thickness']\n",
    "\n",
    "list = [X_combat_racc,X_combat_lphg,X_combat_ltp]\n",
    "names = ['right rACC', 'left PHG','left temporal pole']\n",
    "\n",
    "j=0\n",
    "sns.set_style('ticks')\n",
    "fig, axs = plt.subplots(ncols=3, figsize=(16, 6), sharex=True, sharey=True)\n",
    "for i in list:\n",
    "    data = pd.DataFrame(y)\n",
    "    predicted_ = pd.DataFrame(i)\n",
    "    predicted_.index = data.index\n",
    "    predicted_.columns = ['pr']\n",
    "    data = pd.concat([data, predicted_,sites],axis=1)\n",
    "    data.head()\n",
    "\n",
    "    #g=sns.lmplot(data=data, x='QST', y='pr', hue = 'centre', fit_reg=False, legend=False)\n",
    "    g=sns.regplot(x='QST', y='pr',data=data,scatter=True, ax =axs[j], color ='tab:blue', scatter_kws={'alpha':0.5, 's':100})\n",
    "    axs[j].tick_params(axis='x', which='major', labelsize=fs_tick)\n",
    "    axs[j].tick_params(axis='y', which='major', labelsize=fs_tick)\n",
    "    axs[j].spines['top'].set_visible(False)\n",
    "    axs[j].spines['bottom'].set_visible(False)\n",
    "    axs[j].spines['right'].set_visible(False)\n",
    "    axs[j].spines['left'].set_visible(False)\n",
    "    axs[j].set_xlim([-2, 2])\n",
    "    axs[j].set_ylim([-.35, .35])\n",
    "    axs[j].grid(True)\n",
    "    \n",
    "    if j==1:\n",
    "        axs[j].set_xlabel('pain sensitivity', fontsize = fs)\n",
    "    else:\n",
    "        g.set(xlabel='')\n",
    "    axs[j].set_ylabel(names[j], fontsize = fs)\n",
    "    c_temp=round(np.corrcoef(data['QST'],data['pr'])[0,1],2)\n",
    "    p_temp =round(permutation_test(data['QST'],data['pr'],\n",
    "                               func=lambda x, y: -np.corrcoef(x, y)[0,1],\n",
    "                               method='approximate',\n",
    "                               num_rounds=10000,\n",
    "                               seed=42),4 )\n",
    "    if j == 0:\n",
    "        axs[j].set_title(' f) r = ' + str(c_temp) + ', p = ' + str(round(p_temp,4)), fontsize = fs)\n",
    "    \n",
    "    if j == 1:\n",
    "        axs[j].set_title(' g) r = ' + str(c_temp) + ', p = ' + str(round(p_temp,4)), fontsize = fs)\n",
    "    if j == 2:\n",
    "        axs[j].set_title(' h) r = ' + str(c_temp) + ', p = ' + str(round(p_temp,4)), fontsize =fs)\n",
    "    \n",
    "    j+=1\n",
    "#plt.suptitle('Cortical regions driving pain sensitivity predictions',fontsize=fs_title, fontweight = \"bold\")\n",
    "plt.tight_layout()\n",
    "#plt.tight_layout(rect=[0, 0.03, 1, 0.95])\n",
    "plt.savefig( '../output/manuscript_f1f-h.jpg', dpi=1200, bbox_inches = 'tight')\n"
   ]
  },
  {
   "cell_type": "code",
   "execution_count": 19,
   "metadata": {},
   "outputs": [
    {
     "data": {
      "text/html": [
       "<div>\n",
       "<style scoped>\n",
       "    .dataframe tbody tr th:only-of-type {\n",
       "        vertical-align: middle;\n",
       "    }\n",
       "\n",
       "    .dataframe tbody tr th {\n",
       "        vertical-align: top;\n",
       "    }\n",
       "\n",
       "    .dataframe thead th {\n",
       "        text-align: right;\n",
       "    }\n",
       "</style>\n",
       "<table border=\"1\" class=\"dataframe\">\n",
       "  <thead>\n",
       "    <tr style=\"text-align: right;\">\n",
       "      <th></th>\n",
       "      <th>predicted</th>\n",
       "      <th>BP_MRI_sys</th>\n",
       "      <th>BP_MRI_dias</th>\n",
       "      <th>BP_QST_sys</th>\n",
       "      <th>BP_QST_dias</th>\n",
       "      <th>MRI_QST_dif</th>\n",
       "      <th>sex</th>\n",
       "      <th>day_menses</th>\n",
       "      <th>Age</th>\n",
       "      <th>BMI</th>\n",
       "      <th>...</th>\n",
       "      <th>CDT_log_mean</th>\n",
       "      <th>WDT_log_mean</th>\n",
       "      <th>MDT_log_geom</th>\n",
       "      <th>QST</th>\n",
       "      <th>CPT</th>\n",
       "      <th>HPT</th>\n",
       "      <th>MPT_log_mean</th>\n",
       "      <th>batch</th>\n",
       "      <th>eTIV</th>\n",
       "      <th>meanthickness</th>\n",
       "    </tr>\n",
       "  </thead>\n",
       "  <tbody>\n",
       "    <tr>\n",
       "      <th>sub-004_T1w_s1</th>\n",
       "      <td>-0.092658</td>\n",
       "      <td>NaN</td>\n",
       "      <td>NaN</td>\n",
       "      <td>NaN</td>\n",
       "      <td>NaN</td>\n",
       "      <td>NaN</td>\n",
       "      <td>1</td>\n",
       "      <td>NaN</td>\n",
       "      <td>25.552361</td>\n",
       "      <td>23.183673</td>\n",
       "      <td>...</td>\n",
       "      <td>0.003984</td>\n",
       "      <td>0.966919</td>\n",
       "      <td>NaN</td>\n",
       "      <td>-0.266761</td>\n",
       "      <td>11.84</td>\n",
       "      <td>44.94</td>\n",
       "      <td>3.846967</td>\n",
       "      <td>1</td>\n",
       "      <td>1.621846</td>\n",
       "      <td>2.507595</td>\n",
       "    </tr>\n",
       "    <tr>\n",
       "      <th>sub-005_T1w_s1</th>\n",
       "      <td>0.085091</td>\n",
       "      <td>NaN</td>\n",
       "      <td>NaN</td>\n",
       "      <td>NaN</td>\n",
       "      <td>NaN</td>\n",
       "      <td>NaN</td>\n",
       "      <td>1</td>\n",
       "      <td>NaN</td>\n",
       "      <td>23.800137</td>\n",
       "      <td>24.720579</td>\n",
       "      <td>...</td>\n",
       "      <td>-0.079615</td>\n",
       "      <td>0.492012</td>\n",
       "      <td>NaN</td>\n",
       "      <td>0.923365</td>\n",
       "      <td>22.56</td>\n",
       "      <td>41.67</td>\n",
       "      <td>3.119162</td>\n",
       "      <td>1</td>\n",
       "      <td>1.813168</td>\n",
       "      <td>2.441920</td>\n",
       "    </tr>\n",
       "    <tr>\n",
       "      <th>sub-006_T1w_s1</th>\n",
       "      <td>0.081739</td>\n",
       "      <td>NaN</td>\n",
       "      <td>NaN</td>\n",
       "      <td>NaN</td>\n",
       "      <td>NaN</td>\n",
       "      <td>NaN</td>\n",
       "      <td>1</td>\n",
       "      <td>NaN</td>\n",
       "      <td>33.453799</td>\n",
       "      <td>23.888441</td>\n",
       "      <td>...</td>\n",
       "      <td>0.052180</td>\n",
       "      <td>0.718113</td>\n",
       "      <td>NaN</td>\n",
       "      <td>-0.301473</td>\n",
       "      <td>6.88</td>\n",
       "      <td>44.78</td>\n",
       "      <td>3.431079</td>\n",
       "      <td>1</td>\n",
       "      <td>1.635889</td>\n",
       "      <td>2.492065</td>\n",
       "    </tr>\n",
       "    <tr>\n",
       "      <th>sub-007_T1w_s1</th>\n",
       "      <td>0.080814</td>\n",
       "      <td>NaN</td>\n",
       "      <td>NaN</td>\n",
       "      <td>NaN</td>\n",
       "      <td>NaN</td>\n",
       "      <td>NaN</td>\n",
       "      <td>1</td>\n",
       "      <td>NaN</td>\n",
       "      <td>26.119097</td>\n",
       "      <td>26.592670</td>\n",
       "      <td>...</td>\n",
       "      <td>0.125457</td>\n",
       "      <td>0.875330</td>\n",
       "      <td>NaN</td>\n",
       "      <td>-0.422424</td>\n",
       "      <td>14.82</td>\n",
       "      <td>42.81</td>\n",
       "      <td>5.163946</td>\n",
       "      <td>1</td>\n",
       "      <td>1.698040</td>\n",
       "      <td>2.489610</td>\n",
       "    </tr>\n",
       "    <tr>\n",
       "      <th>sub-008_T1w_s1</th>\n",
       "      <td>0.079361</td>\n",
       "      <td>NaN</td>\n",
       "      <td>NaN</td>\n",
       "      <td>NaN</td>\n",
       "      <td>NaN</td>\n",
       "      <td>NaN</td>\n",
       "      <td>1</td>\n",
       "      <td>NaN</td>\n",
       "      <td>25.445585</td>\n",
       "      <td>22.222222</td>\n",
       "      <td>...</td>\n",
       "      <td>0.304012</td>\n",
       "      <td>1.064449</td>\n",
       "      <td>NaN</td>\n",
       "      <td>0.119123</td>\n",
       "      <td>20.30</td>\n",
       "      <td>44.00</td>\n",
       "      <td>4.124226</td>\n",
       "      <td>1</td>\n",
       "      <td>1.640557</td>\n",
       "      <td>2.546875</td>\n",
       "    </tr>\n",
       "  </tbody>\n",
       "</table>\n",
       "<p>5 rows × 38 columns</p>\n",
       "</div>"
      ],
      "text/plain": [
       "                predicted  BP_MRI_sys  BP_MRI_dias  BP_QST_sys  BP_QST_dias  \\\n",
       "sub-004_T1w_s1  -0.092658         NaN          NaN         NaN          NaN   \n",
       "sub-005_T1w_s1   0.085091         NaN          NaN         NaN          NaN   \n",
       "sub-006_T1w_s1   0.081739         NaN          NaN         NaN          NaN   \n",
       "sub-007_T1w_s1   0.080814         NaN          NaN         NaN          NaN   \n",
       "sub-008_T1w_s1   0.079361         NaN          NaN         NaN          NaN   \n",
       "\n",
       "                MRI_QST_dif  sex  day_menses        Age        BMI  ...  \\\n",
       "sub-004_T1w_s1          NaN    1         NaN  25.552361  23.183673  ...   \n",
       "sub-005_T1w_s1          NaN    1         NaN  23.800137  24.720579  ...   \n",
       "sub-006_T1w_s1          NaN    1         NaN  33.453799  23.888441  ...   \n",
       "sub-007_T1w_s1          NaN    1         NaN  26.119097  26.592670  ...   \n",
       "sub-008_T1w_s1          NaN    1         NaN  25.445585  22.222222  ...   \n",
       "\n",
       "                CDT_log_mean  WDT_log_mean  MDT_log_geom       QST    CPT  \\\n",
       "sub-004_T1w_s1      0.003984      0.966919           NaN -0.266761  11.84   \n",
       "sub-005_T1w_s1     -0.079615      0.492012           NaN  0.923365  22.56   \n",
       "sub-006_T1w_s1      0.052180      0.718113           NaN -0.301473   6.88   \n",
       "sub-007_T1w_s1      0.125457      0.875330           NaN -0.422424  14.82   \n",
       "sub-008_T1w_s1      0.304012      1.064449           NaN  0.119123  20.30   \n",
       "\n",
       "                  HPT  MPT_log_mean  batch      eTIV  meanthickness  \n",
       "sub-004_T1w_s1  44.94      3.846967      1  1.621846       2.507595  \n",
       "sub-005_T1w_s1  41.67      3.119162      1  1.813168       2.441920  \n",
       "sub-006_T1w_s1  44.78      3.431079      1  1.635889       2.492065  \n",
       "sub-007_T1w_s1  42.81      5.163946      1  1.698040       2.489610  \n",
       "sub-008_T1w_s1  44.00      4.124226      1  1.640557       2.546875  \n",
       "\n",
       "[5 rows x 38 columns]"
      ]
     },
     "execution_count": 19,
     "metadata": {},
     "output_type": "execute_result"
    }
   ],
   "source": [
    "behavior_1 = pd.read_csv('../data/data_unbias/RPN_S1_behavior_confounder_v1.csv', sep = ',',index_col=0)\n",
    "behavior_2 = pd.read_csv('../data/data_unbias/RPN_S2_behavior_confounder_v1.csv', sep = ',',index_col=0)\n",
    "behavior_3 = pd.read_csv('../data/data_unbias/RPN_S3_behavior_confounder_v1_dtvalues.csv', sep = ',',index_col=0)\n",
    "X_feature_importance['predicted'] = predicted\n",
    "X_feature_importance['predicted_without_tiv_corr'] = pred_test\n",
    "X_feature_importance['QST'] = y\n",
    "\n",
    "prediction_nested_1 = X_feature_importance['predicted'].iloc[0:np_s1]\n",
    "prediction_nested_2 = X_feature_importance['predicted'].iloc[np_s1:np_s1+np_s2]\n",
    "prediction_nested_3 = X_feature_importance['predicted'].iloc[np_s1+np_s2:np_s1+np_s2+np_s3]\n",
    "\n",
    "df_final_1 = pd.merge(prediction_nested_1, behavior_1, left_index=True, right_index=True, how= 'left')\n",
    "df_final_2 = pd.merge(prediction_nested_2, behavior_2, left_index=True, right_index=True, how= 'left')\n",
    "df_final_3 = pd.merge(prediction_nested_3, behavior_3, left_index=True, right_index=True, how= 'left')\n",
    "df_final_all= pd.concat([df_final_1,df_final_2,df_final_3],axis=0)\n",
    "\n",
    "# for now consider batch corr TIV\n",
    "df_final_all['eTIV']=df_X_feature_combat_whole['eTIV']\n",
    "df_final_all['meanthickness'] = covariates['mThickness']\n",
    "\n",
    "df_final_all['psq'][np_s1:np_s1+np_s2] = 20 * df_final_all['psq'][np_s1:np_s1+np_s2]\n",
    "df_final_all['anx_state'][np_s1:np_s1+np_s2] = 20 * df_final_all['anx_state'][np_s1:np_s1+np_s2]\n",
    "df_final_all['anx_trait'][np_s1:np_s1+np_s2] = 20 * df_final_all['anx_trait'][np_s1:np_s1+np_s2]\n",
    "df_final_all['BMI'][np_s1+np_s2:np_s1+np_s2+np_s3] = 100 * df_final_all['BMI'][np_s1+np_s2:np_s1+np_s2+np_s3]\n",
    "\n",
    "df_final_all.head()"
   ]
  },
  {
   "cell_type": "code",
   "execution_count": 20,
   "metadata": {},
   "outputs": [
    {
     "name": "stdout",
     "output_type": "stream",
     "text": [
      "predicted r= -0.88 p= 0.0\n",
      "Glx_mean r= -0.33 p= 0.04\n",
      "QST r= -0.38 p= 0.0\n",
      "CPT r= -0.3 p= 0.0\n",
      "HPT r= 0.26 p= 0.0\n",
      "MPT_log_mean r= 0.25 p= 0.01\n",
      "predicted r= -0.47 p= 0.0\n",
      "QST r= -0.24 p= 0.01\n",
      "HPT r= 0.23 p= 0.01\n",
      "MPT_log_mean r= 0.2 p= 0.02\n"
     ]
    }
   ],
   "source": [
    "\n",
    "df_corr_racc = []\n",
    "df_corr_lphg = []\n",
    "df_corr_ltp = []\n",
    "df_racc = pd.DataFrame(X_combat_racc)\n",
    "df_lphg = pd.DataFrame(X_combat_lphg)\n",
    "df_ltp = pd.DataFrame(X_combat_ltp)\n",
    "df_predictors = pd.concat([df_racc, df_lphg, df_ltp], axis = 1)\n",
    "#corr_confounders = np.zeros[]\n",
    "df_final_all_pred = df_final_all\n",
    "#df_final_all_pred.drop(['predicted', 'Glx_mean', 'QST', 'CPT', 'HPT', 'CDT_log_mean', 'WDT_log_mean', \n",
    " #                       'MPT_log_mean', 'batch', 'eTIV', 'meanthickness'], axis = 1, inplace = True)\n",
    "\n",
    "for i in df_final_all_pred.columns:\n",
    "    df_temp = pd.concat([df_racc, df_final_all_pred[i]], axis = 1)\n",
    "    df_temp.dropna(inplace = True)\n",
    "    \n",
    "    c_temp=round(np.corrcoef(df_temp.iloc[:,0], df_temp.iloc[:, 1])[0,1],2)\n",
    "    p_temp =round(permutation_test(df_temp.iloc[:,0], df_temp.iloc[:, 1],\n",
    "                           func=lambda x, y: abs(np.corrcoef(x, y)[0,1]),\n",
    "                           method='approximate',\n",
    "                           num_rounds=10000,\n",
    "                           seed=42),2)\n",
    "\n",
    "    df_corr_racc.append([i, round(c_temp, 2), round(p_temp, 3)])\n",
    "    if p_temp < 0.05:\n",
    "        print(i + ' r= ' + str(c_temp) + ' p= ' + str(p_temp))\n",
    "\n",
    "for i in df_final_all_pred.columns:\n",
    "    df_temp = pd.concat([df_lphg, df_final_all_pred[i]], axis = 1)\n",
    "    df_temp.dropna(inplace = True)\n",
    "    \n",
    "    c_temp=round(np.corrcoef(df_temp.iloc[:,0], df_temp.iloc[:, 1])[0,1],2)\n",
    "    p_temp =round(permutation_test(df_temp.iloc[:,0], df_temp.iloc[:, 1],\n",
    "                           func=lambda x, y: abs(np.corrcoef(x, y)[0,1]),\n",
    "                           method='approximate',\n",
    "                           num_rounds=10000,\n",
    "                           seed=42),2)\n",
    "\n",
    "    df_corr_lphg.append([i, round(c_temp, 2), round(p_temp, 3)])\n",
    "    if p_temp < 0.05:\n",
    "        print(i + ' r= ' + str(c_temp) + ' p= ' + str(p_temp))\n",
    "\n",
    "for i in df_final_all_pred.columns:\n",
    "    df_temp = pd.concat([df_ltp, df_final_all_pred[i]], axis = 1)\n",
    "    df_temp.dropna(inplace = True)\n",
    "    \n",
    "    c_temp=round(np.corrcoef(df_temp.iloc[:,0], df_temp.iloc[:, 1])[0,1],2)\n",
    "    p_temp =round(permutation_test(df_temp.iloc[:,0], df_temp.iloc[:, 1],\n",
    "                           func=lambda x, y: abs(np.corrcoef(x, y)[0,1]),\n",
    "                           method='approximate',\n",
    "                           num_rounds=10000,\n",
    "                           seed=42),2)\n",
    "\n",
    "    df_corr_ltp.append([i, round(c_temp, 2), round(p_temp, 3)])\n",
    "    if p_temp < 0.05:\n",
    "        print(i + ' r= ' + str(c_temp) + ' p= ' + str(p_temp))\n",
    "\n",
    "df_corr = pd.concat([pd.DataFrame(df_corr_racc), pd.DataFrame(df_corr_lphg), pd.DataFrame(df_corr_ltp) ], axis = 1)\n",
    "\n",
    "\n",
    "    "
   ]
  },
  {
   "cell_type": "code",
   "execution_count": 21,
   "metadata": {},
   "outputs": [],
   "source": [
    "#df_corr.to_csv('predictor_corr_with_confounders.csv')"
   ]
  },
  {
   "cell_type": "markdown",
   "metadata": {},
   "source": [
    "# Confounder test using mlconfound"
   ]
  },
  {
   "cell_type": "code",
   "execution_count": 22,
   "metadata": {},
   "outputs": [],
   "source": [
    "from mlconfound.stats import partial_confound_test\n",
    "from mlconfound.simulate import simulate_y_c_yhat\n",
    "from mlconfound.plot import plot_null_dist, plot_graph\n",
    "from mlconfound.stats import partial_confound_test\n",
    "from mlconfound.stats import full_confound_test"
   ]
  },
  {
   "cell_type": "code",
   "execution_count": 23,
   "metadata": {},
   "outputs": [
    {
     "name": "stdout",
     "output_type": "stream",
     "text": [
      "BP_MRI_sys       +            BP MRI systole\n"
     ]
    },
    {
     "name": "stderr",
     "output_type": "stream",
     "text": [
      "Permuting: 100%|██████████| 1000/1000 [00:03<00:00, 301.38it/s]\n"
     ]
    },
    {
     "name": "stdout",
     "output_type": "stream",
     "text": [
      "[0.11002676042176404, 0.07217040095711753, 0.3246976378400525, 0.523, (0.49151401031586867, 0.5543502196835381)]\n",
      "BP_MRI_dias       +            BP MRI diastole\n"
     ]
    },
    {
     "name": "stderr",
     "output_type": "stream",
     "text": [
      "Permuting: 100%|██████████| 1000/1000 [00:03<00:00, 308.83it/s]\n"
     ]
    },
    {
     "name": "stdout",
     "output_type": "stream",
     "text": [
      "[0.013726751012484759, 0.13278887053609825, 0.3246976378400525, 0.203, (0.17847357632401623, 0.2292883232581411)]\n",
      "BP_QST_sys       +            BP QST systole\n"
     ]
    },
    {
     "name": "stderr",
     "output_type": "stream",
     "text": [
      "Permuting: 100%|██████████| 1000/1000 [00:03<00:00, 318.21it/s]\n"
     ]
    },
    {
     "name": "stdout",
     "output_type": "stream",
     "text": [
      "[0.09748376029641358, 0.028253692160839537, 0.3843699336388007, 0.816, (0.7905658665854716, 0.839557716815212)]\n",
      "BP_QST_dias       +            BP QST diastole\n"
     ]
    },
    {
     "name": "stderr",
     "output_type": "stream",
     "text": [
      "Permuting: 100%|██████████| 1000/1000 [00:02<00:00, 449.63it/s]\n"
     ]
    },
    {
     "name": "stdout",
     "output_type": "stream",
     "text": [
      "[0.046205515400600285, 0.039615913916398224, 0.3843699336388007, 0.718, (0.6889969272907509, 0.7457133006590745)]\n",
      "MRI_QST_dif       +            MRI QST diff.\n"
     ]
    },
    {
     "name": "stderr",
     "output_type": "stream",
     "text": [
      "Permuting: 100%|██████████| 1000/1000 [00:02<00:00, 437.45it/s]\n"
     ]
    },
    {
     "name": "stdout",
     "output_type": "stream",
     "text": [
      "[0.05518670487796851, 0.07388132977994438, 0.33540851168467445, 0.477, (0.4456497803164619, 0.5084859896841314)]\n",
      "sex       +            sex\n"
     ]
    },
    {
     "name": "stderr",
     "output_type": "stream",
     "text": [
      "Permuting: 100%|██████████| 1000/1000 [00:02<00:00, 422.82it/s]\n"
     ]
    },
    {
     "name": "stdout",
     "output_type": "stream",
     "text": [
      "[0.09159463178731231, 0.01578234838039656, 0.35703865872773605, 0.88, (0.8582331362071746, 0.8994990762518321)]\n",
      "day_menses       +            day of menses\n"
     ]
    },
    {
     "name": "stderr",
     "output_type": "stream",
     "text": [
      "Permuting: 100%|██████████| 1000/1000 [00:02<00:00, 462.04it/s]\n"
     ]
    },
    {
     "name": "stdout",
     "output_type": "stream",
     "text": [
      "[0.09042768344276628, 0.05084090453360241, 0.42717249666455537, 0.715, (0.6859167656616465, 0.7428113037438833)]\n",
      "Age       +            age\n"
     ]
    },
    {
     "name": "stderr",
     "output_type": "stream",
     "text": [
      "Permuting: 100%|██████████| 1000/1000 [00:02<00:00, 384.85it/s]\n"
     ]
    },
    {
     "name": "stdout",
     "output_type": "stream",
     "text": [
      "[0.03154423542155832, 0.07027020268618295, 0.35703865872773605, 0.413, (0.38227757134904683, 0.4442361457147012)]\n",
      "BMI       +            BMI\n"
     ]
    },
    {
     "name": "stderr",
     "output_type": "stream",
     "text": [
      "Permuting: 100%|██████████| 1000/1000 [00:02<00:00, 368.05it/s]\n"
     ]
    },
    {
     "name": "stdout",
     "output_type": "stream",
     "text": [
      "[0.009829141664079106, 0.03687355055883435, 0.35703865872773605, 0.711, (0.6818122287728849, 0.7389396219867512)]\n",
      "edu       +            education\n"
     ]
    },
    {
     "name": "stderr",
     "output_type": "stream",
     "text": [
      "Permuting: 100%|██████████| 1000/1000 [00:02<00:00, 391.06it/s]\n"
     ]
    },
    {
     "name": "stdout",
     "output_type": "stream",
     "text": [
      "[0.054825730996306506, 0.12965280959415468, 0.357505589748251, 0.244, (0.21766588926154587, 0.271850345986017)]\n",
      "alk_per_occ       +            alcohol per unit\n"
     ]
    },
    {
     "name": "stderr",
     "output_type": "stream",
     "text": [
      "Permuting: 100%|██████████| 1000/1000 [00:03<00:00, 328.20it/s]\n"
     ]
    },
    {
     "name": "stdout",
     "output_type": "stream",
     "text": [
      "[0.1539745455570903, 0.21225854955022871, 0.41628541351017434, 0.244, (0.21766588926154587, 0.271850345986017)]\n",
      "alk_per_w       +            alcohol per week\n"
     ]
    },
    {
     "name": "stderr",
     "output_type": "stream",
     "text": [
      "Permuting: 100%|██████████| 1000/1000 [00:03<00:00, 296.70it/s]\n"
     ]
    },
    {
     "name": "stdout",
     "output_type": "stream",
     "text": [
      "[0.04957220940762193, 0.05205663501416777, 0.3587214375918369, 0.622, (0.5911231581097957, 0.6521562251530795)]\n",
      "pcs_catastrophizing       +            PCS: catastrophizing\n"
     ]
    },
    {
     "name": "stderr",
     "output_type": "stream",
     "text": [
      "Permuting: 100%|██████████| 1000/1000 [00:03<00:00, 287.75it/s]\n"
     ]
    },
    {
     "name": "stdout",
     "output_type": "stream",
     "text": [
      "[0.09138249287661204, 0.03490458985613285, 0.3290113103618604, 0.719, (0.690023985712638, 0.7466802940214342)]\n",
      "pcs_rumination       +            PCS: rumination\n"
     ]
    },
    {
     "name": "stderr",
     "output_type": "stream",
     "text": [
      "Permuting: 100%|██████████| 1000/1000 [00:03<00:00, 298.91it/s]\n"
     ]
    },
    {
     "name": "stdout",
     "output_type": "stream",
     "text": [
      "[0.13972294498586946, 0.014527895108258766, 0.41628541351017434, 0.933, (0.9156899628975586, 0.9477021635999548)]\n",
      "t50       +            T50\n"
     ]
    },
    {
     "name": "stderr",
     "output_type": "stream",
     "text": [
      "Permuting: 100%|██████████| 1000/1000 [00:02<00:00, 341.75it/s]\n"
     ]
    },
    {
     "name": "stdout",
     "output_type": "stream",
     "text": [
      "[0.4528201113697142, 0.12361643187472385, 0.41628541351017434, 0.707, (0.6777103418972616, 0.7350652822207449)]\n",
      "Glx_mean       +            GLX mean\n"
     ]
    },
    {
     "name": "stderr",
     "output_type": "stream",
     "text": [
      "Permuting: 100%|██████████| 1000/1000 [00:02<00:00, 404.55it/s]\n"
     ]
    },
    {
     "name": "stdout",
     "output_type": "stream",
     "text": [
      "[0.35858462222558785, 0.3685669451328803, 0.41628541351017434, 0.095, (0.07754020708165497, 0.11488484440445207)]\n",
      "Glx_overall       +            GLX overall\n"
     ]
    },
    {
     "name": "stderr",
     "output_type": "stream",
     "text": [
      "Permuting: 100%|██████████| 1000/1000 [00:03<00:00, 330.03it/s]\n"
     ]
    },
    {
     "name": "stdout",
     "output_type": "stream",
     "text": [
      "[0.3967512465945811, 0.39219961583349333, 0.41632670178105585, 0.087, (0.07026848607137866, 0.1062078579570212)]\n",
      "GABA_mean       +            GABA mean\n"
     ]
    },
    {
     "name": "stderr",
     "output_type": "stream",
     "text": [
      "Permuting: 100%|██████████| 1000/1000 [00:03<00:00, 315.15it/s]\n"
     ]
    },
    {
     "name": "stdout",
     "output_type": "stream",
     "text": [
      "[0.24010022172227494, 0.11359625939841062, 0.41628541351017434, 0.559, (0.527590975570001, 0.5900607020952654)]\n",
      "GABA_overall       +            GABA overall\n"
     ]
    },
    {
     "name": "stderr",
     "output_type": "stream",
     "text": [
      "Permuting: 100%|██████████| 1000/1000 [00:02<00:00, 354.41it/s]\n"
     ]
    },
    {
     "name": "stdout",
     "output_type": "stream",
     "text": [
      "[0.21264974609521847, 0.08385831733459496, 0.41214023327978816, 0.656, (0.6256312654478523, 0.6854468860784784)]\n",
      "tCR_Glx_mean       +            TCR GLX mean\n"
     ]
    },
    {
     "name": "stderr",
     "output_type": "stream",
     "text": [
      "Permuting: 100%|██████████| 1000/1000 [00:02<00:00, 392.07it/s]\n"
     ]
    },
    {
     "name": "stdout",
     "output_type": "stream",
     "text": [
      "[0.3704722352654914, 0.09168216421785842, 0.41628541351017434, 0.725, (0.6961899225470708, 0.7524786563444994)]\n",
      "tCR_GABA_mean       +            TCR GABA mean\n"
     ]
    },
    {
     "name": "stderr",
     "output_type": "stream",
     "text": [
      "Permuting: 100%|██████████| 1000/1000 [00:02<00:00, 335.12it/s]\n"
     ]
    },
    {
     "name": "stdout",
     "output_type": "stream",
     "text": [
      "[0.11723566893634298, 0.1781476722347962, 0.41628541351017434, 0.333, (0.3038178024201579, 0.3631692178520082)]\n",
      "anx_state       +            anxiety state\n"
     ]
    },
    {
     "name": "stderr",
     "output_type": "stream",
     "text": [
      "Permuting: 100%|██████████| 1000/1000 [00:03<00:00, 312.90it/s]\n"
     ]
    },
    {
     "name": "stdout",
     "output_type": "stream",
     "text": [
      "[0.010231794717807588, 0.02944609883796404, 0.3311394271083228, 0.751, (0.7229827913139668, 0.7775308276419634)]\n",
      "anx_trait       +            anxiety trait\n"
     ]
    },
    {
     "name": "stderr",
     "output_type": "stream",
     "text": [
      "Permuting: 100%|██████████| 1000/1000 [00:03<00:00, 322.89it/s]\n"
     ]
    },
    {
     "name": "stdout",
     "output_type": "stream",
     "text": [
      "[0.10577920867454127, 0.023797522761561878, 0.3270573092226706, 0.802, (0.7759277948283817, 0.8262802188958505)]\n",
      "psq       +            PSQ\n"
     ]
    },
    {
     "name": "stderr",
     "output_type": "stream",
     "text": [
      "Permuting: 100%|██████████| 1000/1000 [00:02<00:00, 372.44it/s]\n"
     ]
    },
    {
     "name": "stdout",
     "output_type": "stream",
     "text": [
      "[0.1558153326238624, 0.030361027310787696, 0.330460883499434, 0.76, (0.7322866416528979, 0.7861732255254938)]\n",
      "ads_k       +            ADS-K\n"
     ]
    },
    {
     "name": "stderr",
     "output_type": "stream",
     "text": [
      "Permuting: 100%|██████████| 1000/1000 [00:02<00:00, 379.59it/s]\n"
     ]
    },
    {
     "name": "stdout",
     "output_type": "stream",
     "text": [
      "[0.10978141623274885, 0.011532647331371666, 0.3458128271398304, 0.917, (0.8981467032446243, 0.933351068191121)]\n",
      "PSQ20       +            PSQ20\n"
     ]
    },
    {
     "name": "stderr",
     "output_type": "stream",
     "text": [
      "Permuting: 100%|██████████| 1000/1000 [00:02<00:00, 377.52it/s]\n"
     ]
    },
    {
     "name": "stdout",
     "output_type": "stream",
     "text": [
      "[0.16923656219480102, 0.05736332349868665, 0.2921380690718129, 0.636, (0.6053128948804469, 0.6658836625558713)]\n",
      "PSQI       +            PSQI\n"
     ]
    },
    {
     "name": "stderr",
     "output_type": "stream",
     "text": [
      "Permuting: 100%|██████████| 1000/1000 [00:04<00:00, 208.15it/s]\n"
     ]
    },
    {
     "name": "stdout",
     "output_type": "stream",
     "text": [
      "[0.037509887308474536, 0.09622981768608828, 0.29446042464224725, 0.421, (0.3901706798274372, 0.45229577234734175)]\n",
      "CDT_log_mean       +            CDT\n"
     ]
    },
    {
     "name": "stderr",
     "output_type": "stream",
     "text": [
      "Permuting: 100%|██████████| 1000/1000 [00:03<00:00, 256.39it/s]\n"
     ]
    },
    {
     "name": "stdout",
     "output_type": "stream",
     "text": [
      "[0.0007538313575664225, 0.05523751299093703, 0.35703865872773605, 0.498, (0.4665553231858498, 0.5294564826459982)]\n",
      "WDT_log_mean       +            WDT\n"
     ]
    },
    {
     "name": "stderr",
     "output_type": "stream",
     "text": [
      "Permuting: 100%|██████████| 1000/1000 [00:03<00:00, 299.54it/s]\n"
     ]
    },
    {
     "name": "stdout",
     "output_type": "stream",
     "text": [
      "[0.0006904249342262418, 0.0650514537437368, 0.35703865872773605, 0.441, (0.4099392979047346, 0.47240902442999905)]\n",
      "MDT_log_geom       +            MDT\n"
     ]
    },
    {
     "name": "stderr",
     "output_type": "stream",
     "text": [
      "Permuting: 100%|██████████| 1000/1000 [00:04<00:00, 226.88it/s]\n"
     ]
    },
    {
     "name": "stdout",
     "output_type": "stream",
     "text": [
      "[0.03860322742408356, 0.10048310771683798, 0.33540851168467445, 0.318, (0.28920765506392876, 0.3478683003282046)]\n",
      "QST       +            QST\n"
     ]
    },
    {
     "name": "stderr",
     "output_type": "stream",
     "text": [
      "Permuting: 100%|██████████| 1000/1000 [00:02<00:00, 333.44it/s]\n"
     ]
    },
    {
     "name": "stdout",
     "output_type": "stream",
     "text": [
      "[1.0, 0.35703865872773605, 0.35703865872773605, 1.0, (0.9963179161031344, 0)]\n",
      "CPT       +            CPT\n"
     ]
    },
    {
     "name": "stderr",
     "output_type": "stream",
     "text": [
      "Permuting: 100%|██████████| 1000/1000 [00:03<00:00, 280.02it/s]\n"
     ]
    },
    {
     "name": "stdout",
     "output_type": "stream",
     "text": [
      "[0.7864919898279931, 0.21729688346101445, 0.35703865872773605, 0.904, (0.8840333566371232, 0.9215479637525775)]\n",
      "HPT       +            HPT\n"
     ]
    },
    {
     "name": "stderr",
     "output_type": "stream",
     "text": [
      "Permuting: 100%|██████████| 1000/1000 [00:03<00:00, 304.08it/s]\n"
     ]
    },
    {
     "name": "stdout",
     "output_type": "stream",
     "text": [
      "[0.7792247323528945, 0.24682925418578314, 0.35703865872773605, 0.597, (0.565850043764274, 0.6275771456439845)]\n",
      "MPT_log_mean       +            MPT\n"
     ]
    },
    {
     "name": "stderr",
     "output_type": "stream",
     "text": [
      "Permuting: 100%|██████████| 1000/1000 [00:03<00:00, 293.56it/s]\n"
     ]
    },
    {
     "name": "stdout",
     "output_type": "stream",
     "text": [
      "[0.5411039713075506, 0.2754722580632336, 0.35703865872773605, 0.182, (0.15854965331143797, 0.20733884949016518)]\n",
      "batch       +            batch\n"
     ]
    },
    {
     "name": "stderr",
     "output_type": "stream",
     "text": [
      "Permuting: 100%|██████████| 1000/1000 [00:03<00:00, 275.69it/s]\n"
     ]
    },
    {
     "name": "stdout",
     "output_type": "stream",
     "text": [
      "[0.006941551000463007, 0.043121518469523015, 0.35703865872773605, 0.638, (0.6073422030315453, 0.6678425184638985)]\n",
      "eTIV       +            eTIV\n"
     ]
    },
    {
     "name": "stderr",
     "output_type": "stream",
     "text": [
      "Permuting: 100%|██████████| 1000/1000 [00:02<00:00, 418.96it/s]\n"
     ]
    },
    {
     "name": "stdout",
     "output_type": "stream",
     "text": [
      "[0.02276485419608591, 0.01702200563390195, 0.35703865872773605, 0.842, (0.8178923975121415, 0.8640734838150352)]\n",
      "meanthickness       +            mThickness\n"
     ]
    },
    {
     "name": "stderr",
     "output_type": "stream",
     "text": [
      "Permuting: 100%|██████████| 1000/1000 [00:02<00:00, 412.29it/s]"
     ]
    },
    {
     "name": "stdout",
     "output_type": "stream",
     "text": [
      "[0.13292992671949216, 0.15998649513982757, 0.35703865872773605, 0.108, (0.08943903298240023, 0.1289037608799979)]\n"
     ]
    },
    {
     "name": "stderr",
     "output_type": "stream",
     "text": [
      "\n"
     ]
    }
   ],
   "source": [
    "df_input = df_final_all\n",
    "temp_v2=[]\n",
    "hedr = ['predicted','BP MRI systole','BP MRI diastole','BP QST systole','BP QST diastole','MRI QST diff.','sex','day of menses',\n",
    "       'age','BMI','education','alcohol per unit','alcohol per week', 'PCS: catastrophizing','PCS: rumination','T50',\n",
    "       'GLX mean','GLX overall','GABA mean','GABA overall','TCR GLX mean','TCR GABA mean','anxiety state','anxiety trait',\n",
    "       'PSQ','ADS-K','PSQ20','PSQI','CDT','WDT','MDT','QST','CPT','HPT','MPT','batch','eTIV','mThickness']\n",
    "for i in np.arange(1,(np.size(df_input,1)),1):\n",
    "    print(df_input.columns[i] + '       +            ' + hedr[i])\n",
    "    temp = pd.DataFrame(pd.concat([df_input['QST'],df_input.iloc[:,0], df_input.iloc[:,i]],axis=1))\n",
    "    temp_v1 = temp.dropna()\n",
    "    if temp_v1.shape[0]>0:\n",
    "        r2_y_c,r2_yhat_c,r2_y_yhat,p,p_ci,_=partial_confound_test(temp_v1.iloc[:,0], temp_v1.iloc[:,1],temp_v1.iloc[:,2],random_state=42,n_jobs=-1)\n",
    "        temp_v2.append(['observed QST + ' + hedr[i],np.sqrt(r2_y_c), 'predicted QST + ' + hedr[i],np.sqrt(r2_yhat_c),'observed + predicted QST',np.sqrt(r2_y_yhat),'p-value ',p])\n",
    "        print([np.sqrt(r2_y_c),np.sqrt(r2_yhat_c),np.sqrt(r2_y_yhat),p,p_ci])\n",
    "       \n",
    "pd.DataFrame(temp_v2).to_csv('../output/confounder_results_lmtiv_2_mlconfound.csv')\n"
   ]
  },
  {
   "cell_type": "code",
   "execution_count": 24,
   "metadata": {},
   "outputs": [
    {
     "name": "stdout",
     "output_type": "stream",
     "text": [
      "BP_MRI_sys       +            BP MRI systole\n",
      "BP_MRI_dias       +            BP MRI diastole\n",
      "BP_QST_sys       +            BP QST systole\n",
      "BP_QST_dias       +            BP QST diastole\n",
      "MRI_QST_dif       +            MRI QST diff.\n",
      "sex       +            sex\n",
      "day_menses       +            day of menses\n",
      "Age       +            age\n",
      "BMI       +            BMI\n",
      "edu       +            education\n",
      "alk_per_occ       +            alcohol per unit\n",
      "alk_per_w       +            alcohol per week\n",
      "pcs_catastrophizing       +            PCS: catastrophizing\n",
      "pcs_rumination       +            PCS: rumination\n",
      "t50       +            T50\n",
      "Glx_mean       +            GLX mean\n",
      "Glx_overall       +            GLX overall\n",
      "GABA_mean       +            GABA mean\n",
      "GABA_overall       +            GABA overall\n",
      "tCR_Glx_mean       +            TCR GLX mean\n",
      "tCR_GABA_mean       +            TCR GABA mean\n",
      "anx_state       +            anxiety state\n",
      "anx_trait       +            anxiety trait\n",
      "psq       +            PSQ\n",
      "ads_k       +            ADS-K\n",
      "PSQ20       +            PSQ20\n",
      "PSQI       +            PSQI\n",
      "CDT_log_mean       +            CDT\n",
      "WDT_log_mean       +            WDT\n",
      "MDT_log_geom       +            MDT\n",
      "QST       +            QST\n",
      "CPT       +            CPT\n",
      "HPT       +            HPT\n",
      "MPT_log_mean       +            MPT\n",
      "batch       +            batch\n",
      "eTIV       +            eTIV\n",
      "meanthickness       +            mThickness\n"
     ]
    }
   ],
   "source": [
    "df_input = df_final_all\n",
    "temp_v2=[]\n",
    "hedr = ['predicted','BP MRI systole','BP MRI diastole','BP QST systole','BP QST diastole','MRI QST diff.','sex','day of menses',\n",
    "       'age','BMI','education','alcohol per unit','alcohol per week', 'PCS: catastrophizing','PCS: rumination','T50',\n",
    "       'GLX mean','GLX overall','GABA mean','GABA overall','TCR GLX mean','TCR GABA mean','anxiety state','anxiety trait',\n",
    "       'PSQ','ADS-K','PSQ20','PSQI','CDT','WDT','MDT','QST','CPT','HPT','MPT','batch','eTIV','mThickness']\n",
    "for i in np.arange(1,(np.size(df_input,1)), 1):\n",
    "    print(df_input.columns[i] + '       +            ' + hedr[i])\n",
    "    temp = pd.DataFrame(pd.concat([df_input['QST'],df_input.iloc[:,0], df_input.iloc[:,i]],axis=1))\n",
    "    temp_v1 = temp.dropna()\n",
    "    if temp_v1.shape[0]>0:\n",
    "        c_temp_qst=round(np.corrcoef(temp_v1.iloc[:,0],temp_v1.iloc[:,2])[0,1],2)\n",
    "        c_temp_pred=round(np.corrcoef(temp_v1.iloc[:,1],temp_v1.iloc[:,2])[0,1],2)\n",
    "        fin_r = [hedr[i], c_temp_qst, c_temp_pred]\n",
    "        temp_v2.append(fin_r)\n",
    "       \n",
    "pd.DataFrame(temp_v2).to_csv('../output/confounder_results_lmtiv_pearsonr.csv')\n"
   ]
  }
 ],
 "metadata": {
  "interpreter": {
   "hash": "448e3428bc7b97f139a82be0c2303a55f50c7b1e2d9cbb5dd685dfd8358f1bf8"
  },
  "kernelspec": {
   "display_name": "Python 3.8.3 ('base')",
   "language": "python",
   "name": "python3"
  },
  "language_info": {
   "codemirror_mode": {
    "name": "ipython",
    "version": 3
   },
   "file_extension": ".py",
   "mimetype": "text/x-python",
   "name": "python",
   "nbconvert_exporter": "python",
   "pygments_lexer": "ipython3",
   "version": "3.8.3"
  }
 },
 "nbformat": 4,
 "nbformat_minor": 4
}
